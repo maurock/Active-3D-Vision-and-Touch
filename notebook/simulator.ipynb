{
 "cells": [
  {
   "cell_type": "markdown",
   "metadata": {},
   "source": [
    "<h1>Simulator</h1>"
   ]
  },
  {
   "cell_type": "markdown",
   "metadata": {},
   "source": [
    "<p>This notebook is meant to demonstrate the functionality of the simulator. I will provide a series of code examples along with visualizations to demonstrate what it enables</p>"
   ]
  },
  {
   "cell_type": "markdown",
   "metadata": {},
   "source": [
    "<h2>Import packages</h2>"
   ]
  },
  {
   "cell_type": "code",
   "execution_count": 1,
   "metadata": {},
   "outputs": [
    {
     "name": "stderr",
     "output_type": "stream",
     "text": [
      "pybullet build time: Mar 11 2022 17:30:08\n"
     ]
    }
   ],
   "source": [
    "import os\n",
    "from PIL import Image\n",
    "import numpy as np\n",
    "import trimesh\n",
    "import warnings\n",
    "# warnings.filterwarnings(\"ignore\")\n",
    "\n",
    "import meshplot as mp\n",
    "from pterotactyl.simulator.scene import sampler\n",
    "from pterotactyl.simulator.physics import grasping\n",
    "from pterotactyl.utility import utils\n",
    "import pterotactyl.objects as objects"
   ]
  },
  {
   "cell_type": "markdown",
   "metadata": {},
   "source": [
    "<h2>Select object</h2>"
   ]
  },
  {
   "cell_type": "code",
   "execution_count": 2,
   "metadata": {},
   "outputs": [],
   "source": [
    "OBJ_LOCATION = os.path.join(os.path.dirname(objects.__file__), \"test_objects/0\")\n",
    "batch = [OBJ_LOCATION]"
   ]
  },
  {
   "cell_type": "markdown",
   "metadata": {},
   "source": [
    "<h2>Visualize object to be touched (OPTIONAL)</h2>"
   ]
  },
  {
   "cell_type": "code",
   "execution_count": 3,
   "metadata": {},
   "outputs": [
    {
     "name": "stderr",
     "output_type": "stream",
     "text": [
      "An exception occurred in telemetry logging.Disabling telemetry to prevent further exceptions.\n",
      "Traceback (most recent call last):\n",
      "  File \"/Users/ri21540/miniforge3/envs/active_touch/lib/python3.8/site-packages/iopath/common/file_io.py\", line 946, in __log_tmetry_keys\n",
      "    handler.log_event()\n",
      "  File \"/Users/ri21540/miniforge3/envs/active_touch/lib/python3.8/site-packages/iopath/common/event_logger.py\", line 97, in log_event\n",
      "    del self._evt\n",
      "AttributeError: _evt\n",
      "/Users/ri21540/miniforge3/envs/active_touch/lib/python3.8/site-packages/pytorch3d/io/obj_io.py:530: UserWarning: No mtl file provided\n",
      "  warnings.warn(\"No mtl file provided\")\n",
      "/Users/ri21540/miniforge3/envs/active_touch/lib/python3.8/site-packages/jupyter_client/session.py:716: UserWarning: Message serialization failed with:\n",
      "Out of range float values are not JSON compliant\n",
      "Supporting this message is deprecated in jupyter-client 7, please make sure your message is JSON-compliant\n",
      "  content = self.pack(content)\n"
     ]
    },
    {
     "data": {
      "application/vnd.jupyter.widget-view+json": {
       "model_id": "4d3594d4f98044e7b79bf24a1743bfde",
       "version_major": 2,
       "version_minor": 0
      },
      "text/plain": [
       "Renderer(camera=PerspectiveCamera(children=(DirectionalLight(color='white', intensity=0.6, position=(0.0, 0.0,…"
      ]
     },
     "metadata": {},
     "output_type": "display_data"
    }
   ],
   "source": [
    "verts, faces = utils.load_mesh_touch(OBJ_LOCATION + '.obj')\n",
    "plot = mp.plot(verts.data.cpu().numpy(), faces.data.cpu().numpy())"
   ]
  },
  {
   "cell_type": "markdown",
   "metadata": {},
   "source": [
    "<h2> Start the simulator and load the batch </h2>"
   ]
  },
  {
   "cell_type": "markdown",
   "metadata": {},
   "source": [
    "Here we setup the grasping environment, indicating that the batchsize is 1, that we want vision signals outputted, and that the resolution of the images should be 256 by 256. We then load the object into the simulator, and set the object scale to be 1/2.6 ."
   ]
  },
  {
   "cell_type": "code",
   "execution_count": 6,
   "metadata": {},
   "outputs": [
    {
     "ename": "ImportError",
     "evalue": "('Unable to load EGL library', 'dlopen(EGL, 10): image not found', 'EGL', None)",
     "output_type": "error",
     "traceback": [
      "\u001b[0;31m---------------------------------------------------------------------------\u001b[0m",
      "\u001b[0;31mOSError\u001b[0m                                   Traceback (most recent call last)",
      "File \u001b[0;32m~/miniforge3/envs/active_touch/lib/python3.8/site-packages/OpenGL/platform/egl.py:67\u001b[0m, in \u001b[0;36mEGLPlatform.EGL\u001b[0;34m(self)\u001b[0m\n\u001b[1;32m     66\u001b[0m \u001b[38;5;28;01mtry\u001b[39;00m:\n\u001b[0;32m---> 67\u001b[0m     \u001b[38;5;28;01mreturn\u001b[39;00m \u001b[43mctypesloader\u001b[49m\u001b[38;5;241;43m.\u001b[39;49m\u001b[43mloadLibrary\u001b[49m\u001b[43m(\u001b[49m\n\u001b[1;32m     68\u001b[0m \u001b[43m        \u001b[49m\u001b[43mctypes\u001b[49m\u001b[38;5;241;43m.\u001b[39;49m\u001b[43mcdll\u001b[49m\u001b[43m,\u001b[49m\n\u001b[1;32m     69\u001b[0m \u001b[43m        \u001b[49m\u001b[38;5;124;43m'\u001b[39;49m\u001b[38;5;124;43mEGL\u001b[39;49m\u001b[38;5;124;43m'\u001b[39;49m\u001b[43m,\u001b[49m\u001b[43m \u001b[49m\n\u001b[1;32m     70\u001b[0m \u001b[43m        \u001b[49m\u001b[43mmode\u001b[49m\u001b[38;5;241;43m=\u001b[39;49m\u001b[43mctypes\u001b[49m\u001b[38;5;241;43m.\u001b[39;49m\u001b[43mRTLD_GLOBAL\u001b[49m\u001b[43m \u001b[49m\n\u001b[1;32m     71\u001b[0m \u001b[43m    \u001b[49m\u001b[43m)\u001b[49m\n\u001b[1;32m     72\u001b[0m \u001b[38;5;28;01mexcept\u001b[39;00m \u001b[38;5;167;01mOSError\u001b[39;00m \u001b[38;5;28;01mas\u001b[39;00m err:\n",
      "File \u001b[0;32m~/miniforge3/envs/active_touch/lib/python3.8/site-packages/OpenGL/platform/ctypesloader.py:45\u001b[0m, in \u001b[0;36mloadLibrary\u001b[0;34m(dllType, name, mode)\u001b[0m\n\u001b[1;32m     44\u001b[0m \u001b[38;5;28;01mtry\u001b[39;00m:\n\u001b[0;32m---> 45\u001b[0m     \u001b[38;5;28;01mreturn\u001b[39;00m \u001b[43mdllType\u001b[49m\u001b[43m(\u001b[49m\u001b[43m \u001b[49m\u001b[43mname\u001b[49m\u001b[43m,\u001b[49m\u001b[43m \u001b[49m\u001b[43mmode\u001b[49m\u001b[43m \u001b[49m\u001b[43m)\u001b[49m\n\u001b[1;32m     46\u001b[0m \u001b[38;5;28;01mexcept\u001b[39;00m \u001b[38;5;167;01mException\u001b[39;00m \u001b[38;5;28;01mas\u001b[39;00m err:\n",
      "File \u001b[0;32m~/miniforge3/envs/active_touch/lib/python3.8/ctypes/__init__.py:373\u001b[0m, in \u001b[0;36mCDLL.__init__\u001b[0;34m(self, name, mode, handle, use_errno, use_last_error, winmode)\u001b[0m\n\u001b[1;32m    372\u001b[0m \u001b[38;5;28;01mif\u001b[39;00m handle \u001b[38;5;129;01mis\u001b[39;00m \u001b[38;5;28;01mNone\u001b[39;00m:\n\u001b[0;32m--> 373\u001b[0m     \u001b[38;5;28mself\u001b[39m\u001b[38;5;241m.\u001b[39m_handle \u001b[38;5;241m=\u001b[39m \u001b[43m_dlopen\u001b[49m\u001b[43m(\u001b[49m\u001b[38;5;28;43mself\u001b[39;49m\u001b[38;5;241;43m.\u001b[39;49m\u001b[43m_name\u001b[49m\u001b[43m,\u001b[49m\u001b[43m \u001b[49m\u001b[43mmode\u001b[49m\u001b[43m)\u001b[49m\n\u001b[1;32m    374\u001b[0m \u001b[38;5;28;01melse\u001b[39;00m:\n",
      "\u001b[0;31mOSError\u001b[0m: ('dlopen(EGL, 10): image not found', 'EGL', None)",
      "\nDuring handling of the above exception, another exception occurred:\n",
      "\u001b[0;31mImportError\u001b[0m                               Traceback (most recent call last)",
      "Input \u001b[0;32mIn [6]\u001b[0m, in \u001b[0;36m<cell line: 1>\u001b[0;34m()\u001b[0m\n\u001b[0;32m----> 1\u001b[0m s \u001b[38;5;241m=\u001b[39m \u001b[43msampler\u001b[49m\u001b[38;5;241;43m.\u001b[39;49m\u001b[43mSampler\u001b[49m\u001b[43m(\u001b[49m\u001b[43mgrasping\u001b[49m\u001b[38;5;241;43m.\u001b[39;49m\u001b[43mAgnostic_Grasp\u001b[49m\u001b[43m,\u001b[49m\u001b[43m \u001b[49m\u001b[43mbs\u001b[49m\u001b[38;5;241;43m=\u001b[39;49m\u001b[38;5;241;43m1\u001b[39;49m\u001b[43m,\u001b[49m\u001b[43m \u001b[49m\u001b[43mvision\u001b[49m\u001b[38;5;241;43m=\u001b[39;49m\u001b[38;5;28;43;01mTrue\u001b[39;49;00m\u001b[43m,\u001b[49m\u001b[43m \u001b[49m\u001b[43mresolution\u001b[49m\u001b[43m \u001b[49m\u001b[38;5;241;43m=\u001b[39;49m\u001b[43m \u001b[49m\u001b[43m[\u001b[49m\u001b[38;5;241;43m256\u001b[39;49m\u001b[43m,\u001b[49m\u001b[43m \u001b[49m\u001b[38;5;241;43m256\u001b[39;49m\u001b[43m]\u001b[49m\u001b[43m)\u001b[49m\n",
      "File \u001b[0;32m~/Documents/PhD/Code/Active-3D-Vision-and-Touch/pterotactyl/simulator/scene/sampler.py:45\u001b[0m, in \u001b[0;36mSampler.__init__\u001b[0;34m(self, grasp_class, bs, vision, max_depth, object_colours, resolution, TACTO)\u001b[0m\n\u001b[1;32m     42\u001b[0m \u001b[38;5;28;01melse\u001b[39;00m:\n\u001b[1;32m     43\u001b[0m     colour \u001b[38;5;241m=\u001b[39m object_colours[i]\n\u001b[1;32m     44\u001b[0m \u001b[38;5;28mself\u001b[39m\u001b[38;5;241m.\u001b[39mpybullet_scenes\u001b[38;5;241m.\u001b[39mappend(\n\u001b[0;32m---> 45\u001b[0m     \u001b[43minstance\u001b[49m\u001b[38;5;241;43m.\u001b[39;49m\u001b[43mScene\u001b[49m\u001b[43m(\u001b[49m\n\u001b[1;32m     46\u001b[0m \u001b[43m        \u001b[49m\u001b[43mgrasp_class\u001b[49m\u001b[43m,\u001b[49m\n\u001b[1;32m     47\u001b[0m \u001b[43m        \u001b[49m\u001b[43mmax_depth\u001b[49m\u001b[38;5;241;43m=\u001b[39;49m\u001b[43mmax_depth\u001b[49m\u001b[43m,\u001b[49m\n\u001b[1;32m     48\u001b[0m \u001b[43m        \u001b[49m\u001b[43mconn\u001b[49m\u001b[38;5;241;43m=\u001b[39;49m\u001b[38;5;28;43mself\u001b[39;49m\u001b[38;5;241;43m.\u001b[39;49m\u001b[43mpybullet_connections\u001b[49m\u001b[43m[\u001b[49m\u001b[43mi\u001b[49m\u001b[43m]\u001b[49m\u001b[43m,\u001b[49m\n\u001b[1;32m     49\u001b[0m \u001b[43m        \u001b[49m\u001b[43mvision\u001b[49m\u001b[38;5;241;43m=\u001b[39;49m\u001b[38;5;28;43mself\u001b[39;49m\u001b[38;5;241;43m.\u001b[39;49m\u001b[43mvision\u001b[49m\u001b[43m,\u001b[49m\n\u001b[1;32m     50\u001b[0m \u001b[43m        \u001b[49m\u001b[43mobject_colour\u001b[49m\u001b[38;5;241;43m=\u001b[39;49m\u001b[43mcolour\u001b[49m\u001b[43m,\u001b[49m\n\u001b[1;32m     51\u001b[0m \u001b[43m        \u001b[49m\u001b[43mresolution\u001b[49m\u001b[38;5;241;43m=\u001b[39;49m\u001b[43mresolution\u001b[49m\u001b[43m,\u001b[49m\n\u001b[1;32m     52\u001b[0m \u001b[43m        \u001b[49m\u001b[43mTACTO\u001b[49m\u001b[38;5;241;43m=\u001b[39;49m\u001b[43mTACTO\u001b[49m\u001b[43m,\u001b[49m\n\u001b[1;32m     53\u001b[0m \u001b[43m    \u001b[49m\u001b[43m)\u001b[49m\n\u001b[1;32m     54\u001b[0m )\n",
      "File \u001b[0;32m~/Documents/PhD/Code/Active-3D-Vision-and-Touch/pterotactyl/simulator/scene/instance.py:59\u001b[0m, in \u001b[0;36mScene.__init__\u001b[0;34m(self, grasp_class, max_depth, conn, vision, resolution, object_colour, TACTO)\u001b[0m\n\u001b[1;32m     57\u001b[0m \u001b[38;5;28;01mif\u001b[39;00m \u001b[38;5;28mself\u001b[39m\u001b[38;5;241m.\u001b[39mvision:\n\u001b[1;32m     58\u001b[0m     \u001b[38;5;28mself\u001b[39m\u001b[38;5;241m.\u001b[39mobject_colour \u001b[38;5;241m=\u001b[39m object_colour\n\u001b[0;32m---> 59\u001b[0m     \u001b[38;5;28mself\u001b[39m\u001b[38;5;241m.\u001b[39mcamera_renderer \u001b[38;5;241m=\u001b[39m \u001b[43mvision_renderer\u001b[49m\u001b[38;5;241;43m.\u001b[39;49m\u001b[43mRenderer\u001b[49m\u001b[43m(\u001b[49m\n\u001b[1;32m     60\u001b[0m \u001b[43m        \u001b[49m\u001b[38;5;28;43mself\u001b[39;49m\u001b[38;5;241;43m.\u001b[39;49m\u001b[43mhand\u001b[49m\u001b[43m,\u001b[49m\u001b[43m \u001b[49m\u001b[43mpb\u001b[49m\u001b[43m,\u001b[49m\u001b[43m \u001b[49m\u001b[43mcameraResolution\u001b[49m\u001b[38;5;241;43m=\u001b[39;49m\u001b[43mresolution\u001b[49m\n\u001b[1;32m     61\u001b[0m \u001b[43m    \u001b[49m\u001b[43m)\u001b[49m\n\u001b[1;32m     62\u001b[0m \u001b[38;5;28;01mif\u001b[39;00m \u001b[38;5;28mself\u001b[39m\u001b[38;5;241m.\u001b[39mTACTO:\n\u001b[1;32m     63\u001b[0m     \u001b[38;5;28mself\u001b[39m\u001b[38;5;241m.\u001b[39mtouch_renderer \u001b[38;5;241m=\u001b[39m tacto_renderer\u001b[38;5;241m.\u001b[39mRenderer(cameraResolution\u001b[38;5;241m=\u001b[39m[\u001b[38;5;241m121\u001b[39m, \u001b[38;5;241m121\u001b[39m])\n",
      "File \u001b[0;32m~/Documents/PhD/Code/Active-3D-Vision-and-Touch/pterotactyl/simulator/rendering/vision_renderer.py:32\u001b[0m, in \u001b[0;36mRenderer.__init__\u001b[0;34m(self, hand, pb, cameraResolution)\u001b[0m\n\u001b[1;32m     30\u001b[0m \u001b[38;5;28mself\u001b[39m\u001b[38;5;241m.\u001b[39minit_hand()\n\u001b[1;32m     31\u001b[0m \u001b[38;5;28mself\u001b[39m\u001b[38;5;241m.\u001b[39mupdate_hand()\n\u001b[0;32m---> 32\u001b[0m \u001b[38;5;28mself\u001b[39m\u001b[38;5;241m.\u001b[39mr \u001b[38;5;241m=\u001b[39m \u001b[43mpyrender\u001b[49m\u001b[38;5;241;43m.\u001b[39;49m\u001b[43mOffscreenRenderer\u001b[49m\u001b[43m(\u001b[49m\u001b[43mcameraResolution\u001b[49m\u001b[43m[\u001b[49m\u001b[38;5;241;43m0\u001b[39;49m\u001b[43m]\u001b[49m\u001b[43m,\u001b[49m\u001b[43m \u001b[49m\u001b[43mcameraResolution\u001b[49m\u001b[43m[\u001b[49m\u001b[38;5;241;43m1\u001b[39;49m\u001b[43m]\u001b[49m\u001b[43m)\u001b[49m\n",
      "File \u001b[0;32m~/miniforge3/envs/active_touch/lib/python3.8/site-packages/pyrender/offscreen.py:31\u001b[0m, in \u001b[0;36mOffscreenRenderer.__init__\u001b[0;34m(self, viewport_width, viewport_height, point_size)\u001b[0m\n\u001b[1;32m     29\u001b[0m \u001b[38;5;28mself\u001b[39m\u001b[38;5;241m.\u001b[39m_platform \u001b[38;5;241m=\u001b[39m \u001b[38;5;28;01mNone\u001b[39;00m\n\u001b[1;32m     30\u001b[0m \u001b[38;5;28mself\u001b[39m\u001b[38;5;241m.\u001b[39m_renderer \u001b[38;5;241m=\u001b[39m \u001b[38;5;28;01mNone\u001b[39;00m\n\u001b[0;32m---> 31\u001b[0m \u001b[38;5;28;43mself\u001b[39;49m\u001b[38;5;241;43m.\u001b[39;49m\u001b[43m_create\u001b[49m\u001b[43m(\u001b[49m\u001b[43m)\u001b[49m\n",
      "File \u001b[0;32m~/miniforge3/envs/active_touch/lib/python3.8/site-packages/pyrender/offscreen.py:135\u001b[0m, in \u001b[0;36mOffscreenRenderer._create\u001b[0;34m(self)\u001b[0m\n\u001b[1;32m    132\u001b[0m     \u001b[38;5;28mself\u001b[39m\u001b[38;5;241m.\u001b[39m_platform \u001b[38;5;241m=\u001b[39m PygletPlatform(\u001b[38;5;28mself\u001b[39m\u001b[38;5;241m.\u001b[39mviewport_width,\n\u001b[1;32m    133\u001b[0m                                     \u001b[38;5;28mself\u001b[39m\u001b[38;5;241m.\u001b[39mviewport_height)\n\u001b[1;32m    134\u001b[0m \u001b[38;5;28;01melif\u001b[39;00m os\u001b[38;5;241m.\u001b[39menviron[\u001b[38;5;124m'\u001b[39m\u001b[38;5;124mPYOPENGL_PLATFORM\u001b[39m\u001b[38;5;124m'\u001b[39m] \u001b[38;5;241m==\u001b[39m \u001b[38;5;124m'\u001b[39m\u001b[38;5;124megl\u001b[39m\u001b[38;5;124m'\u001b[39m:\n\u001b[0;32m--> 135\u001b[0m     \u001b[38;5;28;01mfrom\u001b[39;00m \u001b[38;5;21;01mpyrender\u001b[39;00m\u001b[38;5;21;01m.\u001b[39;00m\u001b[38;5;21;01mplatforms\u001b[39;00m \u001b[38;5;28;01mimport\u001b[39;00m egl\n\u001b[1;32m    136\u001b[0m     device_id \u001b[38;5;241m=\u001b[39m \u001b[38;5;28mint\u001b[39m(os\u001b[38;5;241m.\u001b[39menviron\u001b[38;5;241m.\u001b[39mget(\u001b[38;5;124m'\u001b[39m\u001b[38;5;124mEGL_DEVICE_ID\u001b[39m\u001b[38;5;124m'\u001b[39m, \u001b[38;5;124m'\u001b[39m\u001b[38;5;124m0\u001b[39m\u001b[38;5;124m'\u001b[39m))\n\u001b[1;32m    137\u001b[0m     egl_device \u001b[38;5;241m=\u001b[39m egl\u001b[38;5;241m.\u001b[39mget_device_by_index(device_id)\n",
      "File \u001b[0;32m~/miniforge3/envs/active_touch/lib/python3.8/site-packages/pyrender/platforms/egl.py:25\u001b[0m, in \u001b[0;36m<module>\u001b[0;34m\u001b[0m\n\u001b[1;32m     20\u001b[0m     plugin \u001b[38;5;241m=\u001b[39m plugin_class()\n\u001b[1;32m     22\u001b[0m     plugin\u001b[38;5;241m.\u001b[39minstall(\u001b[38;5;28mvars\u001b[39m(OpenGL\u001b[38;5;241m.\u001b[39mplatform))\n\u001b[0;32m---> 25\u001b[0m \u001b[43m_ensure_egl_loaded\u001b[49m\u001b[43m(\u001b[49m\u001b[43m)\u001b[49m\n\u001b[1;32m     26\u001b[0m \u001b[38;5;28;01mfrom\u001b[39;00m \u001b[38;5;21;01mOpenGL\u001b[39;00m \u001b[38;5;28;01mimport\u001b[39;00m EGL \u001b[38;5;28;01mas\u001b[39;00m egl\n\u001b[1;32m     29\u001b[0m \u001b[38;5;28;01mdef\u001b[39;00m \u001b[38;5;21m_get_egl_func\u001b[39m(func_name, res_type, \u001b[38;5;241m*\u001b[39marg_types):\n",
      "File \u001b[0;32m~/miniforge3/envs/active_touch/lib/python3.8/site-packages/pyrender/platforms/egl.py:22\u001b[0m, in \u001b[0;36m_ensure_egl_loaded\u001b[0;34m()\u001b[0m\n\u001b[1;32m     19\u001b[0m \u001b[38;5;66;03m# create instance of this platform implementation\u001b[39;00m\n\u001b[1;32m     20\u001b[0m plugin \u001b[38;5;241m=\u001b[39m plugin_class()\n\u001b[0;32m---> 22\u001b[0m \u001b[43mplugin\u001b[49m\u001b[38;5;241;43m.\u001b[39;49m\u001b[43minstall\u001b[49m\u001b[43m(\u001b[49m\u001b[38;5;28;43mvars\u001b[39;49m\u001b[43m(\u001b[49m\u001b[43mOpenGL\u001b[49m\u001b[38;5;241;43m.\u001b[39;49m\u001b[43mplatform\u001b[49m\u001b[43m)\u001b[49m\u001b[43m)\u001b[49m\n",
      "File \u001b[0;32m~/miniforge3/envs/active_touch/lib/python3.8/site-packages/OpenGL/platform/baseplatform.py:92\u001b[0m, in \u001b[0;36mBasePlatform.install\u001b[0;34m(self, namespace)\u001b[0m\n\u001b[1;32m     90\u001b[0m \u001b[38;5;124;03m\"\"\"Install this platform instance into the platform module\"\"\"\u001b[39;00m\n\u001b[1;32m     91\u001b[0m \u001b[38;5;28;01mfor\u001b[39;00m name \u001b[38;5;129;01min\u001b[39;00m \u001b[38;5;28mself\u001b[39m\u001b[38;5;241m.\u001b[39mEXPORTED_NAMES:\n\u001b[0;32m---> 92\u001b[0m     namespace[ name ] \u001b[38;5;241m=\u001b[39m \u001b[38;5;28;43mgetattr\u001b[39;49m\u001b[43m(\u001b[49m\u001b[38;5;28;43mself\u001b[39;49m\u001b[43m,\u001b[49m\u001b[43mname\u001b[49m\u001b[43m,\u001b[49m\u001b[38;5;28;43;01mNone\u001b[39;49;00m\u001b[43m)\u001b[49m\n\u001b[1;32m     93\u001b[0m namespace[\u001b[38;5;124m'\u001b[39m\u001b[38;5;124mPLATFORM\u001b[39m\u001b[38;5;124m'\u001b[39m] \u001b[38;5;241m=\u001b[39m \u001b[38;5;28mself\u001b[39m\n\u001b[1;32m     94\u001b[0m \u001b[38;5;28;01mreturn\u001b[39;00m \u001b[38;5;28mself\u001b[39m\n",
      "File \u001b[0;32m~/miniforge3/envs/active_touch/lib/python3.8/site-packages/OpenGL/platform/baseplatform.py:14\u001b[0m, in \u001b[0;36mlazy_property.__get__\u001b[0;34m(self, obj, cls)\u001b[0m\n\u001b[1;32m     13\u001b[0m \u001b[38;5;28;01mdef\u001b[39;00m \u001b[38;5;21m__get__\u001b[39m( \u001b[38;5;28mself\u001b[39m, obj, \u001b[38;5;28mcls\u001b[39m ):\n\u001b[0;32m---> 14\u001b[0m     value \u001b[38;5;241m=\u001b[39m \u001b[38;5;28;43mself\u001b[39;49m\u001b[38;5;241;43m.\u001b[39;49m\u001b[43mfget\u001b[49m\u001b[43m(\u001b[49m\u001b[43m \u001b[49m\u001b[43mobj\u001b[49m\u001b[43m \u001b[49m\u001b[43m)\u001b[49m\n\u001b[1;32m     15\u001b[0m     \u001b[38;5;28msetattr\u001b[39m( obj, \u001b[38;5;28mself\u001b[39m\u001b[38;5;241m.\u001b[39mfget\u001b[38;5;241m.\u001b[39m\u001b[38;5;18m__name__\u001b[39m, value)\n\u001b[1;32m     16\u001b[0m     \u001b[38;5;28;01mreturn\u001b[39;00m value\n",
      "File \u001b[0;32m~/miniforge3/envs/active_touch/lib/python3.8/site-packages/OpenGL/platform/egl.py:93\u001b[0m, in \u001b[0;36mEGLPlatform.GetCurrentContext\u001b[0;34m(self)\u001b[0m\n\u001b[1;32m     91\u001b[0m \u001b[38;5;129m@baseplatform\u001b[39m\u001b[38;5;241m.\u001b[39mlazy_property\n\u001b[1;32m     92\u001b[0m \u001b[38;5;28;01mdef\u001b[39;00m \u001b[38;5;21mGetCurrentContext\u001b[39m( \u001b[38;5;28mself\u001b[39m ):\n\u001b[0;32m---> 93\u001b[0m     \u001b[38;5;28;01mreturn\u001b[39;00m \u001b[38;5;28;43mself\u001b[39;49m\u001b[38;5;241;43m.\u001b[39;49m\u001b[43mEGL\u001b[49m\u001b[38;5;241m.\u001b[39meglGetCurrentContext\n",
      "File \u001b[0;32m~/miniforge3/envs/active_touch/lib/python3.8/site-packages/OpenGL/platform/baseplatform.py:14\u001b[0m, in \u001b[0;36mlazy_property.__get__\u001b[0;34m(self, obj, cls)\u001b[0m\n\u001b[1;32m     13\u001b[0m \u001b[38;5;28;01mdef\u001b[39;00m \u001b[38;5;21m__get__\u001b[39m( \u001b[38;5;28mself\u001b[39m, obj, \u001b[38;5;28mcls\u001b[39m ):\n\u001b[0;32m---> 14\u001b[0m     value \u001b[38;5;241m=\u001b[39m \u001b[38;5;28;43mself\u001b[39;49m\u001b[38;5;241;43m.\u001b[39;49m\u001b[43mfget\u001b[49m\u001b[43m(\u001b[49m\u001b[43m \u001b[49m\u001b[43mobj\u001b[49m\u001b[43m \u001b[49m\u001b[43m)\u001b[49m\n\u001b[1;32m     15\u001b[0m     \u001b[38;5;28msetattr\u001b[39m( obj, \u001b[38;5;28mself\u001b[39m\u001b[38;5;241m.\u001b[39mfget\u001b[38;5;241m.\u001b[39m\u001b[38;5;18m__name__\u001b[39m, value)\n\u001b[1;32m     16\u001b[0m     \u001b[38;5;28;01mreturn\u001b[39;00m value\n",
      "File \u001b[0;32m~/miniforge3/envs/active_touch/lib/python3.8/site-packages/OpenGL/platform/egl.py:73\u001b[0m, in \u001b[0;36mEGLPlatform.EGL\u001b[0;34m(self)\u001b[0m\n\u001b[1;32m     67\u001b[0m     \u001b[38;5;28;01mreturn\u001b[39;00m ctypesloader\u001b[38;5;241m.\u001b[39mloadLibrary(\n\u001b[1;32m     68\u001b[0m         ctypes\u001b[38;5;241m.\u001b[39mcdll,\n\u001b[1;32m     69\u001b[0m         \u001b[38;5;124m'\u001b[39m\u001b[38;5;124mEGL\u001b[39m\u001b[38;5;124m'\u001b[39m, \n\u001b[1;32m     70\u001b[0m         mode\u001b[38;5;241m=\u001b[39mctypes\u001b[38;5;241m.\u001b[39mRTLD_GLOBAL \n\u001b[1;32m     71\u001b[0m     )\n\u001b[1;32m     72\u001b[0m \u001b[38;5;28;01mexcept\u001b[39;00m \u001b[38;5;167;01mOSError\u001b[39;00m \u001b[38;5;28;01mas\u001b[39;00m err:\n\u001b[0;32m---> 73\u001b[0m     \u001b[38;5;28;01mraise\u001b[39;00m \u001b[38;5;167;01mImportError\u001b[39;00m(\u001b[38;5;124m\"\u001b[39m\u001b[38;5;124mUnable to load EGL library\u001b[39m\u001b[38;5;124m\"\u001b[39m, \u001b[38;5;241m*\u001b[39merr\u001b[38;5;241m.\u001b[39margs)\n",
      "\u001b[0;31mImportError\u001b[0m: ('Unable to load EGL library', 'dlopen(EGL, 10): image not found', 'EGL', None)"
     ]
    }
   ],
   "source": [
    "s = sampler.Sampler(grasping.Agnostic_Grasp, bs=1, vision=True, resolution = [256, 256])\n",
    "s.load_objects(batch, from_dataset=False, scale = 2.6)"
   ]
  },
  {
   "cell_type": "markdown",
   "metadata": {},
   "source": [
    "<h2> Perform an action </h2>"
   ]
  },
  {
   "cell_type": "code",
   "execution_count": null,
   "metadata": {},
   "outputs": [],
   "source": [
    "action = [30]\n",
    "parameters = [[[.3, .3, .3], [60, 0, 135]]]\n",
    "signals = s.sample(action, touch=True, touch_point_cloud=True, vision=True, vision_occluded=True,parameters=parameters )"
   ]
  },
  {
   "cell_type": "markdown",
   "metadata": {},
   "source": [
    "<h2> Observe results </h2>"
   ]
  },
  {
   "cell_type": "code",
   "execution_count": null,
   "metadata": {},
   "outputs": [],
   "source": [
    "img_vision = Image.fromarray(signals[\"vision\"][0])\n",
    "display(img_vision)\n"
   ]
  },
  {
   "cell_type": "code",
   "execution_count": null,
   "metadata": {},
   "outputs": [],
   "source": [
    "img_vision_grasp = Image.fromarray(signals[\"vision_occluded\"][0])\n",
    "display(img_vision_grasp)"
   ]
  },
  {
   "cell_type": "code",
   "execution_count": null,
   "metadata": {
    "scrolled": true
   },
   "outputs": [],
   "source": [
    "image = np.zeros((121*4, 121*2, 3)).astype(np.uint8)\n",
    "for i in range(4):\n",
    "    print(f'Finger {i} has status {signals[\"touch_status\"][0][i]}')\n",
    "    touch = signals[\"touch_signal\"][0][i].data.numpy().astype(np.uint8)\n",
    "    image[i*121:i*121+121, :121] = touch\n",
    "    depth = utils.visualize_depth(signals[\"depths\"][0][i].data.numpy()).reshape(121, 121, 1)\n",
    "    image[i*121:i*121+121, 121:] = depth\n",
    "print(' ')\n",
    "print('     TOUCH         DEPTH')\n",
    "display(Image.fromarray(image))\n"
   ]
  },
  {
   "cell_type": "markdown",
   "metadata": {},
   "source": [
    "<h2> Visualize the touches </h2>"
   ]
  },
  {
   "cell_type": "code",
   "execution_count": null,
   "metadata": {},
   "outputs": [],
   "source": [
    "points = []\n",
    "plot = mp.plot(verts.data.cpu().numpy(), faces.data.cpu().numpy())\n",
    "for p in signals[\"touch_point_cloud\"][0]:\n",
    "    if p.shape[0] >0:\n",
    "        points.append(p)\n",
    "points = np.concatenate(points).reshape(-1,3)\n",
    "\n",
    "plot.add_points(points, c=points.sum(axis=1),  shading={ \"point_size\": 0.03})\n"
   ]
  },
  {
   "cell_type": "markdown",
   "metadata": {},
   "source": [
    "<h2> Perfrom new actions </h2>"
   ]
  },
  {
   "cell_type": "code",
   "execution_count": null,
   "metadata": {},
   "outputs": [],
   "source": [
    "action = [40]\n",
    "parameters = [[[0.35, -0.35, 0.3], [60, 0, 45]]]\n",
    "signals = s.sample(action, touch=True, touch_point_cloud=False, vision=True, vision_occluded=True,parameters=parameters )"
   ]
  },
  {
   "cell_type": "markdown",
   "metadata": {},
   "source": [
    "<h2> Observe new results </h2>"
   ]
  },
  {
   "cell_type": "code",
   "execution_count": null,
   "metadata": {},
   "outputs": [],
   "source": [
    "img_vision = Image.fromarray(signals[\"vision\"][0])\n",
    "display(img_vision)"
   ]
  },
  {
   "cell_type": "code",
   "execution_count": null,
   "metadata": {},
   "outputs": [],
   "source": [
    "img_vision_grasp = Image.fromarray(signals[\"vision_occluded\"][0])\n",
    "display(img_vision_grasp)"
   ]
  },
  {
   "cell_type": "code",
   "execution_count": null,
   "metadata": {},
   "outputs": [],
   "source": [
    "image = np.zeros((121*4, 121*2, 3)).astype(np.uint8)\n",
    "for i in range(4):\n",
    "    print(f'Finger {i} has status {signals[\"touch_status\"][0][i]}')\n",
    "    touch = signals[\"touch_signal\"][0][i].data.numpy().astype(np.uint8)\n",
    "    image[i*121:i*121+121, :121] = touch\n",
    "    depth = utils.visualize_depth(signals[\"depths\"][0][i].data.numpy()).reshape(121, 121, 1)\n",
    "    image[i*121:i*121+121, 121:] = depth\n",
    "          \n",
    "print(' ')\n",
    "print('     TOUCH         DEPTH')\n",
    "display(Image.fromarray(image))"
   ]
  },
  {
   "cell_type": "code",
   "execution_count": null,
   "metadata": {},
   "outputs": [],
   "source": []
  }
 ],
 "metadata": {
  "kernelspec": {
   "display_name": "Python 3 (ipykernel)",
   "language": "python",
   "name": "python3"
  },
  "language_info": {
   "codemirror_mode": {
    "name": "ipython",
    "version": 3
   },
   "file_extension": ".py",
   "mimetype": "text/x-python",
   "name": "python",
   "nbconvert_exporter": "python",
   "pygments_lexer": "ipython3",
   "version": "3.8.12"
  },
  "pycharm": {
   "stem_cell": {
    "cell_type": "raw",
    "metadata": {
     "collapsed": false
    },
    "source": []
   }
  }
 },
 "nbformat": 4,
 "nbformat_minor": 4
}
